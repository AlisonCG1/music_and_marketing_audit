{
 "cells": [
  {
   "cell_type": "code",
   "execution_count": 6,
   "metadata": {},
   "outputs": [],
   "source": [
    "import boto3\n",
    "from io import BytesIO\n",
    "import pandas as pd\n",
    "import os"
   ]
  },
  {
   "cell_type": "code",
   "execution_count": 11,
   "metadata": {},
   "outputs": [],
   "source": [
    "MINIO_ENDPOINT = os.getenv(\"MINIO_ENDPOINT\")\n",
    "MINIO_ACCESS_KEY = os.getenv(\"MINIO_ACCESS_KEY\")\n",
    "MINIO_SECRET_KEY = os.getenv(\"MINIO_SECRET_KEY\")\n",
    "MINIO_BUCKET = os.getenv(\"BUCKET_NAME\")\n",
    "FILENAME = \"spotify_search.parquet\"\n"
   ]
  },
  {
   "cell_type": "code",
   "execution_count": 12,
   "metadata": {},
   "outputs": [
    {
     "name": "stdout",
     "output_type": "stream",
     "text": [
      "Number of rows: 5\n"
     ]
    }
   ],
   "source": [
    "s3 = boto3.client(\n",
    "    \"s3\",\n",
    "    endpoint_url=MINIO_ENDPOINT,\n",
    "    aws_access_key_id=MINIO_ACCESS_KEY,\n",
    "    aws_secret_access_key=MINIO_SECRET_KEY\n",
    ")\n",
    "\n",
    "# download the file into memory\n",
    "obj = s3.get_object(Bucket=MINIO_BUCKET, Key=FILENAME)\n",
    "df = pd.read_parquet(BytesIO(obj['Body'].read()))\n",
    "print(f\"Number of rows: {df.shape[0]}\")"
   ]
  },
  {
   "cell_type": "code",
   "execution_count": 10,
   "metadata": {},
   "outputs": [
    {
     "data": {
      "text/html": [
       "<div>\n",
       "<style scoped>\n",
       "    .dataframe tbody tr th:only-of-type {\n",
       "        vertical-align: middle;\n",
       "    }\n",
       "\n",
       "    .dataframe tbody tr th {\n",
       "        vertical-align: top;\n",
       "    }\n",
       "\n",
       "    .dataframe thead th {\n",
       "        text-align: right;\n",
       "    }\n",
       "</style>\n",
       "<table border=\"1\" class=\"dataframe\">\n",
       "  <thead>\n",
       "    <tr style=\"text-align: right;\">\n",
       "      <th></th>\n",
       "      <th>type</th>\n",
       "      <th>id</th>\n",
       "      <th>name</th>\n",
       "      <th>artist</th>\n",
       "      <th>owner</th>\n",
       "      <th>release_date</th>\n",
       "      <th>total_tracks</th>\n",
       "      <th>popularity</th>\n",
       "    </tr>\n",
       "  </thead>\n",
       "  <tbody>\n",
       "    <tr>\n",
       "      <th>0</th>\n",
       "      <td>tracks</td>\n",
       "      <td>3vZIYc2V9Ql80jWI2ZApEC</td>\n",
       "      <td>Doxy - Remastered 2009</td>\n",
       "      <td>Miles Davis</td>\n",
       "      <td>None</td>\n",
       "      <td>None</td>\n",
       "      <td>None</td>\n",
       "      <td>38</td>\n",
       "    </tr>\n",
       "    <tr>\n",
       "      <th>1</th>\n",
       "      <td>tracks</td>\n",
       "      <td>5dp6XAIe5gclnYSfyTUmGH</td>\n",
       "      <td>Doxy - Remastered 2024</td>\n",
       "      <td>Miles Davis</td>\n",
       "      <td>None</td>\n",
       "      <td>None</td>\n",
       "      <td>None</td>\n",
       "      <td>13</td>\n",
       "    </tr>\n",
       "    <tr>\n",
       "      <th>2</th>\n",
       "      <td>tracks</td>\n",
       "      <td>3URgVAIONyPXbYk4IPdwR4</td>\n",
       "      <td>Doxy - Remastered 2024</td>\n",
       "      <td>Miles Davis</td>\n",
       "      <td>None</td>\n",
       "      <td>None</td>\n",
       "      <td>None</td>\n",
       "      <td>2</td>\n",
       "    </tr>\n",
       "    <tr>\n",
       "      <th>3</th>\n",
       "      <td>tracks</td>\n",
       "      <td>5suUK72hIxSZJRSmLK5Tr5</td>\n",
       "      <td>Doxy - Remastered 2009</td>\n",
       "      <td>Miles Davis</td>\n",
       "      <td>None</td>\n",
       "      <td>None</td>\n",
       "      <td>None</td>\n",
       "      <td>3</td>\n",
       "    </tr>\n",
       "    <tr>\n",
       "      <th>4</th>\n",
       "      <td>tracks</td>\n",
       "      <td>42yVnyXbnkENWGnyn2YlZG</td>\n",
       "      <td>Doxy - Remastered 2009</td>\n",
       "      <td>Miles Davis</td>\n",
       "      <td>None</td>\n",
       "      <td>None</td>\n",
       "      <td>None</td>\n",
       "      <td>1</td>\n",
       "    </tr>\n",
       "  </tbody>\n",
       "</table>\n",
       "</div>"
      ],
      "text/plain": [
       "     type                      id                    name       artist owner  \\\n",
       "0  tracks  3vZIYc2V9Ql80jWI2ZApEC  Doxy - Remastered 2009  Miles Davis  None   \n",
       "1  tracks  5dp6XAIe5gclnYSfyTUmGH  Doxy - Remastered 2024  Miles Davis  None   \n",
       "2  tracks  3URgVAIONyPXbYk4IPdwR4  Doxy - Remastered 2024  Miles Davis  None   \n",
       "3  tracks  5suUK72hIxSZJRSmLK5Tr5  Doxy - Remastered 2009  Miles Davis  None   \n",
       "4  tracks  42yVnyXbnkENWGnyn2YlZG  Doxy - Remastered 2009  Miles Davis  None   \n",
       "\n",
       "  release_date total_tracks  popularity  \n",
       "0         None         None          38  \n",
       "1         None         None          13  \n",
       "2         None         None           2  \n",
       "3         None         None           3  \n",
       "4         None         None           1  "
      ]
     },
     "execution_count": 10,
     "metadata": {},
     "output_type": "execute_result"
    }
   ],
   "source": [
    "df"
   ]
  }
 ],
 "metadata": {
  "language_info": {
   "name": "python"
  }
 },
 "nbformat": 4,
 "nbformat_minor": 2
}
